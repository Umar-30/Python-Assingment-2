{
  "cells": [
    {
      "cell_type": "markdown",
      "metadata": {
        "id": "view-in-github",
        "colab_type": "text"
      },
      "source": [
        "<a href=\"https://colab.research.google.com/github/Umar-30/Python-Assingment-2/blob/main/Assingment2.ipynb\" target=\"_parent\"><img src=\"https://colab.research.google.com/assets/colab-badge.svg\" alt=\"Open In Colab\"/></a>"
      ]
    },
    {
      "cell_type": "markdown",
      "metadata": {
        "id": "GXwUENWlBT8B"
      },
      "source": [
        "Assingment 2 Simple Calculator"
      ]
    },
    {
      "cell_type": "code",
      "execution_count": null,
      "metadata": {
        "colab": {
          "base_uri": "https://localhost:8080/"
        },
        "id": "8KfRE-utBjgs",
        "outputId": "615e6b7f-c872-40b0-9326-da6d3ce085af"
      },
      "outputs": [
        {
          "output_type": "stream",
          "name": "stdout",
          "text": [
            "Enter First number:24\n",
            "enter operator(+,-,*,/):-\n",
            "Enter second number:4\n",
            "Result: 20.0\n"
          ]
        }
      ],
      "source": [
        "num1 = float(input(\"Enter First number:\"))\n",
        "\n",
        "\n",
        "operator = input(\"enter operator(+,-,*,/):\")\n",
        "\n",
        "num2 = float(input(\"Enter second number:\"))\n",
        "\n",
        "if operator == \"+\":\n",
        "  print(\"Result:\", num1 + num2)\n",
        "\n",
        "elif operator == \"-\":\n",
        "    print(\"Result:\", num1 - num2)\n",
        "\n",
        "elif operator == \"*\":\n",
        "    print(\"Result:\", num1 * num2)\n",
        "\n",
        "elif operator == \"/\":\n",
        "    print(\"Result:\", num1 / num2 if num2 !=0 else \"Error! Division by zero.\")\n",
        "else:\n",
        "  print(\"Invalid operator\")\n"
      ]
    },
    {
      "cell_type": "markdown",
      "source": [
        "       Simple Grade System"
      ],
      "metadata": {
        "id": "supS3cPGJpKI"
      }
    },
    {
      "cell_type": "code",
      "source": [
        "marks = float(input(\"Enter your Marks:\"))\n",
        "\n",
        "if marks >= 90: print(\"Grade A+ (Excellent)\")\n",
        "\n",
        "elif marks >= 80: print(\"Grade A (very Good)\")\n",
        "\n",
        "elif marks >= 70: print(\"Grade B (Good)\")\n",
        "\n",
        "elif marks >= 60: print (\"Grade C (Pass)\")\n",
        "\n",
        "elif marks >= 50: print (\"Grade D (Below Average)\")"
      ],
      "metadata": {
        "colab": {
          "base_uri": "https://localhost:8080/"
        },
        "id": "e60t-8Iac7Ec",
        "outputId": "19ff9b43-6298-4f17-88b4-5761853635ff"
      },
      "execution_count": null,
      "outputs": [
        {
          "output_type": "stream",
          "name": "stdout",
          "text": [
            "Enter your Marks:80\n",
            "Grade A (very Good)\n"
          ]
        }
      ]
    }
  ],
  "metadata": {
    "colab": {
      "provenance": [],
      "authorship_tag": "ABX9TyN2H8u3ViTlNa/lryqy7kcW",
      "include_colab_link": true
    },
    "kernelspec": {
      "display_name": "Python 3",
      "name": "python3"
    },
    "language_info": {
      "name": "python"
    }
  },
  "nbformat": 4,
  "nbformat_minor": 0
}